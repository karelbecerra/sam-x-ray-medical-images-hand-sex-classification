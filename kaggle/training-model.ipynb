{
 "cells": [
  {
   "cell_type": "markdown",
   "id": "c9ed2341",
   "metadata": {
    "papermill": {
     "duration": 0.002864,
     "end_time": "2024-12-12T21:38:06.378661",
     "exception": false,
     "start_time": "2024-12-12T21:38:06.375797",
     "status": "completed"
    },
    "tags": []
   },
   "source": [
    "# Prepare notebook environment\n",
    "> This notebook is for the intention of having an easy start process. You can find more '**production ready**' code for **training** and **inference** into **/classification** repository folder.\n",
    "\n",
    "\n",
    "Notebook requeriments:\n",
    "* Install public packages\n",
    "* Import public packages\n",
    "* Clone code repository\n",
    "* Setup working folders\n",
    "* Link Kaggle dataset to Code repository"
   ]
  },
  {
   "cell_type": "code",
   "execution_count": 1,
   "id": "de9adf47",
   "metadata": {
    "execution": {
     "iopub.execute_input": "2024-12-12T21:38:06.385517Z",
     "iopub.status.busy": "2024-12-12T21:38:06.384723Z",
     "iopub.status.idle": "2024-12-12T21:38:27.992058Z",
     "shell.execute_reply": "2024-12-12T21:38:27.991031Z"
    },
    "papermill": {
     "duration": 21.613096,
     "end_time": "2024-12-12T21:38:27.994266",
     "exception": false,
     "start_time": "2024-12-12T21:38:06.381170",
     "status": "completed"
    },
    "tags": []
   },
   "outputs": [
    {
     "name": "stdout",
     "output_type": "stream",
     "text": [
      "Collecting torchsummary\r\n",
      "  Downloading torchsummary-1.5.1-py3-none-any.whl.metadata (296 bytes)\r\n",
      "Downloading torchsummary-1.5.1-py3-none-any.whl (2.8 kB)\r\n",
      "Installing collected packages: torchsummary\r\n",
      "Successfully installed torchsummary-1.5.1\r\n",
      "Collecting munch\r\n",
      "  Downloading munch-4.0.0-py2.py3-none-any.whl.metadata (5.9 kB)\r\n",
      "Downloading munch-4.0.0-py2.py3-none-any.whl (9.9 kB)\r\n",
      "Installing collected packages: munch\r\n",
      "Successfully installed munch-4.0.0\r\n"
     ]
    }
   ],
   "source": [
    "# Install public packages\n",
    "!pip install torchsummary\n",
    "!pip install munch\n",
    "\n",
    "# Import public packages\n",
    "import os\n",
    "import sys\n",
    "import numpy as np\n",
    "from torchsummary import  summary"
   ]
  },
  {
   "cell_type": "code",
   "execution_count": 2,
   "id": "f93a64fb",
   "metadata": {
    "execution": {
     "iopub.execute_input": "2024-12-12T21:38:28.002448Z",
     "iopub.status.busy": "2024-12-12T21:38:28.001967Z",
     "iopub.status.idle": "2024-12-12T21:38:30.479650Z",
     "shell.execute_reply": "2024-12-12T21:38:30.478733Z"
    },
    "papermill": {
     "duration": 2.483625,
     "end_time": "2024-12-12T21:38:30.481808",
     "exception": false,
     "start_time": "2024-12-12T21:38:27.998183",
     "status": "completed"
    },
    "tags": []
   },
   "outputs": [
    {
     "name": "stdout",
     "output_type": "stream",
     "text": [
      "Cloning into 'sam-x-ray-medical-images-hand-sex-classification'...\r\n",
      "remote: Enumerating objects: 137, done.\u001b[K\r\n",
      "remote: Counting objects: 100% (137/137), done.\u001b[K\r\n",
      "remote: Compressing objects: 100% (109/109), done.\u001b[K\r\n",
      "remote: Total 137 (delta 46), reused 90 (delta 25), pack-reused 0 (from 0)\u001b[K\r\n",
      "Receiving objects: 100% (137/137), 8.09 MiB | 32.76 MiB/s, done.\r\n",
      "Resolving deltas: 100% (46/46), done.\r\n"
     ]
    }
   ],
   "source": [
    "# Clone repository\n",
    "### After cloning, code will be available in **/kaggle/working/** folder\n",
    "!git clone https://github.com/karelbecerra/sam-x-ray-medical-images-hand-sex-classification.git"
   ]
  },
  {
   "cell_type": "code",
   "execution_count": 3,
   "id": "44e863da",
   "metadata": {
    "execution": {
     "iopub.execute_input": "2024-12-12T21:38:30.490829Z",
     "iopub.status.busy": "2024-12-12T21:38:30.490474Z",
     "iopub.status.idle": "2024-12-12T21:38:30.495318Z",
     "shell.execute_reply": "2024-12-12T21:38:30.494432Z"
    },
    "papermill": {
     "duration": 0.011342,
     "end_time": "2024-12-12T21:38:30.497049",
     "exception": false,
     "start_time": "2024-12-12T21:38:30.485707",
     "status": "completed"
    },
    "tags": []
   },
   "outputs": [],
   "source": [
    "# Setup working folders\n",
    "troncho_base = '/kaggle/working/sam-x-ray-medical-images-hand-sex-classification/classification'\n",
    "os.chdir(troncho_base)\n",
    "sys.path.append(troncho_base)"
   ]
  },
  {
   "cell_type": "code",
   "execution_count": 4,
   "id": "03aa1a77",
   "metadata": {
    "execution": {
     "iopub.execute_input": "2024-12-12T21:38:30.506289Z",
     "iopub.status.busy": "2024-12-12T21:38:30.505503Z",
     "iopub.status.idle": "2024-12-12T21:38:31.525183Z",
     "shell.execute_reply": "2024-12-12T21:38:31.524141Z"
    },
    "papermill": {
     "duration": 1.026382,
     "end_time": "2024-12-12T21:38:31.527242",
     "exception": false,
     "start_time": "2024-12-12T21:38:30.500860",
     "status": "completed"
    },
    "tags": []
   },
   "outputs": [],
   "source": [
    "# Link Kaggle dataset to Code repository\n",
    "\n",
    "# Configs in repository '**/classification/configs**' are expecting to find dataset on '**./datasets**' folders.\n",
    "# Therefore we need to link Kaggle datasets to ./datasets folder.\n",
    "\n",
    "# Create a symbolic link\n",
    "!ln -s /kaggle/input/sam-x-ray-medical-images-hand-sex-classification/enhanced_hand_data ./datasets/enhanced_hand_data"
   ]
  },
  {
   "cell_type": "markdown",
   "id": "937bcb45",
   "metadata": {
    "papermill": {
     "duration": 0.004594,
     "end_time": "2024-12-12T21:38:31.535403",
     "exception": false,
     "start_time": "2024-12-12T21:38:31.530809",
     "status": "completed"
    },
    "tags": []
   },
   "source": [
    "# Training Process\n",
    "* Import local functions\n",
    "* Load parameters: Find more in ./configs folders. Parameters include:\n",
    "  * Augmentations\n",
    "  * Learning Rate\n",
    "  * Initial model weights\n",
    "  * and more...\n",
    "* Load dataset: setup dataset loaders\n",
    "* Build model\n",
    "* Train "
   ]
  },
  {
   "cell_type": "code",
   "execution_count": 5,
   "id": "a1c870a9",
   "metadata": {
    "execution": {
     "iopub.execute_input": "2024-12-12T21:38:31.543871Z",
     "iopub.status.busy": "2024-12-12T21:38:31.543047Z",
     "iopub.status.idle": "2024-12-12T21:38:33.082028Z",
     "shell.execute_reply": "2024-12-12T21:38:33.081357Z"
    },
    "papermill": {
     "duration": 1.545317,
     "end_time": "2024-12-12T21:38:33.084010",
     "exception": false,
     "start_time": "2024-12-12T21:38:31.538693",
     "status": "completed"
    },
    "tags": []
   },
   "outputs": [],
   "source": [
    "# Import local methods, functions and models (from github repository)\n",
    "from src.utils import tools\n",
    "from src.trainer import train_model\n",
    "from src.loaddataset import load_datasets\n",
    "from src.buildmodel import build_model\n",
    "from src.utils import config"
   ]
  },
  {
   "cell_type": "code",
   "execution_count": 6,
   "id": "093b4db6",
   "metadata": {
    "_cell_guid": "b1076dfc-b9ad-4769-8c92-a6c4dae69d19",
    "_uuid": "8f2839f25d086af736a60e9eeb907d3b93b6e0e5",
    "execution": {
     "iopub.execute_input": "2024-12-12T21:38:33.092241Z",
     "iopub.status.busy": "2024-12-12T21:38:33.091857Z",
     "iopub.status.idle": "2024-12-12T21:38:33.098828Z",
     "shell.execute_reply": "2024-12-12T21:38:33.098114Z"
    },
    "papermill": {
     "duration": 0.01288,
     "end_time": "2024-12-12T21:38:33.100448",
     "exception": false,
     "start_time": "2024-12-12T21:38:33.087568",
     "status": "completed"
    },
    "tags": []
   },
   "outputs": [],
   "source": [
    "# Load parameters\n",
    "parameters = config.load_parameters(config='enhanced_hand_data', batch=24, epochs=25, run='run1' )"
   ]
  },
  {
   "cell_type": "code",
   "execution_count": 7,
   "id": "df3dd3eb",
   "metadata": {
    "_cell_guid": "b1076dfc-b9ad-4769-8c92-a6c4dae69d19",
    "_uuid": "8f2839f25d086af736a60e9eeb907d3b93b6e0e5",
    "execution": {
     "iopub.execute_input": "2024-12-12T21:38:33.108371Z",
     "iopub.status.busy": "2024-12-12T21:38:33.108067Z",
     "iopub.status.idle": "2024-12-12T21:38:45.735656Z",
     "shell.execute_reply": "2024-12-12T21:38:45.734673Z"
    },
    "papermill": {
     "duration": 12.633875,
     "end_time": "2024-12-12T21:38:45.737824",
     "exception": false,
     "start_time": "2024-12-12T21:38:33.103949",
     "status": "completed"
    },
    "tags": []
   },
   "outputs": [],
   "source": [
    "# Load dataset\n",
    "train_loader, valid_loader, train_dataset_size = load_datasets(parameters=parameters)"
   ]
  },
  {
   "cell_type": "code",
   "execution_count": 8,
   "id": "399e5d4d",
   "metadata": {
    "_cell_guid": "b1076dfc-b9ad-4769-8c92-a6c4dae69d19",
    "_uuid": "8f2839f25d086af736a60e9eeb907d3b93b6e0e5",
    "execution": {
     "iopub.execute_input": "2024-12-12T21:38:45.746683Z",
     "iopub.status.busy": "2024-12-12T21:38:45.745954Z",
     "iopub.status.idle": "2024-12-12T21:38:47.838774Z",
     "shell.execute_reply": "2024-12-12T21:38:47.837889Z"
    },
    "papermill": {
     "duration": 2.09995,
     "end_time": "2024-12-12T21:38:47.841503",
     "exception": false,
     "start_time": "2024-12-12T21:38:45.741553",
     "status": "completed"
    },
    "tags": []
   },
   "outputs": [
    {
     "name": "stderr",
     "output_type": "stream",
     "text": [
      "Downloading: \"https://download.pytorch.org/models/efficientnet_b0_rwightman-7f5810bc.pth\" to /root/.cache/torch/hub/checkpoints/efficientnet_b0_rwightman-7f5810bc.pth\n",
      "100%|██████████| 20.5M/20.5M [00:00<00:00, 125MB/s]\n"
     ]
    },
    {
     "name": "stdout",
     "output_type": "stream",
     "text": [
      "----------------------------------------------------------------\n",
      "        Layer (type)               Output Shape         Param #\n",
      "================================================================\n",
      "            Conv2d-1         [-1, 32, 200, 100]             864\n",
      "       BatchNorm2d-2         [-1, 32, 200, 100]              64\n",
      "              SiLU-3         [-1, 32, 200, 100]               0\n",
      "            Conv2d-4         [-1, 32, 200, 100]             288\n",
      "       BatchNorm2d-5         [-1, 32, 200, 100]              64\n",
      "              SiLU-6         [-1, 32, 200, 100]               0\n",
      " AdaptiveAvgPool2d-7             [-1, 32, 1, 1]               0\n",
      "            Conv2d-8              [-1, 8, 1, 1]             264\n",
      "              SiLU-9              [-1, 8, 1, 1]               0\n",
      "           Conv2d-10             [-1, 32, 1, 1]             288\n",
      "          Sigmoid-11             [-1, 32, 1, 1]               0\n",
      "SqueezeExcitation-12         [-1, 32, 200, 100]               0\n",
      "           Conv2d-13         [-1, 16, 200, 100]             512\n",
      "      BatchNorm2d-14         [-1, 16, 200, 100]              32\n",
      "           MBConv-15         [-1, 16, 200, 100]               0\n",
      "           Conv2d-16         [-1, 96, 200, 100]           1,536\n",
      "      BatchNorm2d-17         [-1, 96, 200, 100]             192\n",
      "             SiLU-18         [-1, 96, 200, 100]               0\n",
      "           Conv2d-19          [-1, 96, 100, 50]             864\n",
      "      BatchNorm2d-20          [-1, 96, 100, 50]             192\n",
      "             SiLU-21          [-1, 96, 100, 50]               0\n",
      "AdaptiveAvgPool2d-22             [-1, 96, 1, 1]               0\n",
      "           Conv2d-23              [-1, 4, 1, 1]             388\n",
      "             SiLU-24              [-1, 4, 1, 1]               0\n",
      "           Conv2d-25             [-1, 96, 1, 1]             480\n",
      "          Sigmoid-26             [-1, 96, 1, 1]               0\n",
      "SqueezeExcitation-27          [-1, 96, 100, 50]               0\n",
      "           Conv2d-28          [-1, 24, 100, 50]           2,304\n",
      "      BatchNorm2d-29          [-1, 24, 100, 50]              48\n",
      "           MBConv-30          [-1, 24, 100, 50]               0\n",
      "           Conv2d-31         [-1, 144, 100, 50]           3,456\n",
      "      BatchNorm2d-32         [-1, 144, 100, 50]             288\n",
      "             SiLU-33         [-1, 144, 100, 50]               0\n",
      "           Conv2d-34         [-1, 144, 100, 50]           1,296\n",
      "      BatchNorm2d-35         [-1, 144, 100, 50]             288\n",
      "             SiLU-36         [-1, 144, 100, 50]               0\n",
      "AdaptiveAvgPool2d-37            [-1, 144, 1, 1]               0\n",
      "           Conv2d-38              [-1, 6, 1, 1]             870\n",
      "             SiLU-39              [-1, 6, 1, 1]               0\n",
      "           Conv2d-40            [-1, 144, 1, 1]           1,008\n",
      "          Sigmoid-41            [-1, 144, 1, 1]               0\n",
      "SqueezeExcitation-42         [-1, 144, 100, 50]               0\n",
      "           Conv2d-43          [-1, 24, 100, 50]           3,456\n",
      "      BatchNorm2d-44          [-1, 24, 100, 50]              48\n",
      "  StochasticDepth-45          [-1, 24, 100, 50]               0\n",
      "           MBConv-46          [-1, 24, 100, 50]               0\n",
      "           Conv2d-47         [-1, 144, 100, 50]           3,456\n",
      "      BatchNorm2d-48         [-1, 144, 100, 50]             288\n",
      "             SiLU-49         [-1, 144, 100, 50]               0\n",
      "           Conv2d-50          [-1, 144, 50, 25]           3,600\n",
      "      BatchNorm2d-51          [-1, 144, 50, 25]             288\n",
      "             SiLU-52          [-1, 144, 50, 25]               0\n",
      "AdaptiveAvgPool2d-53            [-1, 144, 1, 1]               0\n",
      "           Conv2d-54              [-1, 6, 1, 1]             870\n",
      "             SiLU-55              [-1, 6, 1, 1]               0\n",
      "           Conv2d-56            [-1, 144, 1, 1]           1,008\n",
      "          Sigmoid-57            [-1, 144, 1, 1]               0\n",
      "SqueezeExcitation-58          [-1, 144, 50, 25]               0\n",
      "           Conv2d-59           [-1, 40, 50, 25]           5,760\n",
      "      BatchNorm2d-60           [-1, 40, 50, 25]              80\n",
      "           MBConv-61           [-1, 40, 50, 25]               0\n",
      "           Conv2d-62          [-1, 240, 50, 25]           9,600\n",
      "      BatchNorm2d-63          [-1, 240, 50, 25]             480\n",
      "             SiLU-64          [-1, 240, 50, 25]               0\n",
      "           Conv2d-65          [-1, 240, 50, 25]           6,000\n",
      "      BatchNorm2d-66          [-1, 240, 50, 25]             480\n",
      "             SiLU-67          [-1, 240, 50, 25]               0\n",
      "AdaptiveAvgPool2d-68            [-1, 240, 1, 1]               0\n",
      "           Conv2d-69             [-1, 10, 1, 1]           2,410\n",
      "             SiLU-70             [-1, 10, 1, 1]               0\n",
      "           Conv2d-71            [-1, 240, 1, 1]           2,640\n",
      "          Sigmoid-72            [-1, 240, 1, 1]               0\n",
      "SqueezeExcitation-73          [-1, 240, 50, 25]               0\n",
      "           Conv2d-74           [-1, 40, 50, 25]           9,600\n",
      "      BatchNorm2d-75           [-1, 40, 50, 25]              80\n",
      "  StochasticDepth-76           [-1, 40, 50, 25]               0\n",
      "           MBConv-77           [-1, 40, 50, 25]               0\n",
      "           Conv2d-78          [-1, 240, 50, 25]           9,600\n",
      "      BatchNorm2d-79          [-1, 240, 50, 25]             480\n",
      "             SiLU-80          [-1, 240, 50, 25]               0\n",
      "           Conv2d-81          [-1, 240, 25, 13]           2,160\n",
      "      BatchNorm2d-82          [-1, 240, 25, 13]             480\n",
      "             SiLU-83          [-1, 240, 25, 13]               0\n",
      "AdaptiveAvgPool2d-84            [-1, 240, 1, 1]               0\n",
      "           Conv2d-85             [-1, 10, 1, 1]           2,410\n",
      "             SiLU-86             [-1, 10, 1, 1]               0\n",
      "           Conv2d-87            [-1, 240, 1, 1]           2,640\n",
      "          Sigmoid-88            [-1, 240, 1, 1]               0\n",
      "SqueezeExcitation-89          [-1, 240, 25, 13]               0\n",
      "           Conv2d-90           [-1, 80, 25, 13]          19,200\n",
      "      BatchNorm2d-91           [-1, 80, 25, 13]             160\n",
      "           MBConv-92           [-1, 80, 25, 13]               0\n",
      "           Conv2d-93          [-1, 480, 25, 13]          38,400\n",
      "      BatchNorm2d-94          [-1, 480, 25, 13]             960\n",
      "             SiLU-95          [-1, 480, 25, 13]               0\n",
      "           Conv2d-96          [-1, 480, 25, 13]           4,320\n",
      "      BatchNorm2d-97          [-1, 480, 25, 13]             960\n",
      "             SiLU-98          [-1, 480, 25, 13]               0\n",
      "AdaptiveAvgPool2d-99            [-1, 480, 1, 1]               0\n",
      "          Conv2d-100             [-1, 20, 1, 1]           9,620\n",
      "            SiLU-101             [-1, 20, 1, 1]               0\n",
      "          Conv2d-102            [-1, 480, 1, 1]          10,080\n",
      "         Sigmoid-103            [-1, 480, 1, 1]               0\n",
      "SqueezeExcitation-104          [-1, 480, 25, 13]               0\n",
      "          Conv2d-105           [-1, 80, 25, 13]          38,400\n",
      "     BatchNorm2d-106           [-1, 80, 25, 13]             160\n",
      " StochasticDepth-107           [-1, 80, 25, 13]               0\n",
      "          MBConv-108           [-1, 80, 25, 13]               0\n",
      "          Conv2d-109          [-1, 480, 25, 13]          38,400\n",
      "     BatchNorm2d-110          [-1, 480, 25, 13]             960\n",
      "            SiLU-111          [-1, 480, 25, 13]               0\n",
      "          Conv2d-112          [-1, 480, 25, 13]           4,320\n",
      "     BatchNorm2d-113          [-1, 480, 25, 13]             960\n",
      "            SiLU-114          [-1, 480, 25, 13]               0\n",
      "AdaptiveAvgPool2d-115            [-1, 480, 1, 1]               0\n",
      "          Conv2d-116             [-1, 20, 1, 1]           9,620\n",
      "            SiLU-117             [-1, 20, 1, 1]               0\n",
      "          Conv2d-118            [-1, 480, 1, 1]          10,080\n",
      "         Sigmoid-119            [-1, 480, 1, 1]               0\n",
      "SqueezeExcitation-120          [-1, 480, 25, 13]               0\n",
      "          Conv2d-121           [-1, 80, 25, 13]          38,400\n",
      "     BatchNorm2d-122           [-1, 80, 25, 13]             160\n",
      " StochasticDepth-123           [-1, 80, 25, 13]               0\n",
      "          MBConv-124           [-1, 80, 25, 13]               0\n",
      "          Conv2d-125          [-1, 480, 25, 13]          38,400\n",
      "     BatchNorm2d-126          [-1, 480, 25, 13]             960\n",
      "            SiLU-127          [-1, 480, 25, 13]               0\n",
      "          Conv2d-128          [-1, 480, 25, 13]          12,000\n",
      "     BatchNorm2d-129          [-1, 480, 25, 13]             960\n",
      "            SiLU-130          [-1, 480, 25, 13]               0\n",
      "AdaptiveAvgPool2d-131            [-1, 480, 1, 1]               0\n",
      "          Conv2d-132             [-1, 20, 1, 1]           9,620\n",
      "            SiLU-133             [-1, 20, 1, 1]               0\n",
      "          Conv2d-134            [-1, 480, 1, 1]          10,080\n",
      "         Sigmoid-135            [-1, 480, 1, 1]               0\n",
      "SqueezeExcitation-136          [-1, 480, 25, 13]               0\n",
      "          Conv2d-137          [-1, 112, 25, 13]          53,760\n",
      "     BatchNorm2d-138          [-1, 112, 25, 13]             224\n",
      "          MBConv-139          [-1, 112, 25, 13]               0\n",
      "          Conv2d-140          [-1, 672, 25, 13]          75,264\n",
      "     BatchNorm2d-141          [-1, 672, 25, 13]           1,344\n",
      "            SiLU-142          [-1, 672, 25, 13]               0\n",
      "          Conv2d-143          [-1, 672, 25, 13]          16,800\n",
      "     BatchNorm2d-144          [-1, 672, 25, 13]           1,344\n",
      "            SiLU-145          [-1, 672, 25, 13]               0\n",
      "AdaptiveAvgPool2d-146            [-1, 672, 1, 1]               0\n",
      "          Conv2d-147             [-1, 28, 1, 1]          18,844\n",
      "            SiLU-148             [-1, 28, 1, 1]               0\n",
      "          Conv2d-149            [-1, 672, 1, 1]          19,488\n",
      "         Sigmoid-150            [-1, 672, 1, 1]               0\n",
      "SqueezeExcitation-151          [-1, 672, 25, 13]               0\n",
      "          Conv2d-152          [-1, 112, 25, 13]          75,264\n",
      "     BatchNorm2d-153          [-1, 112, 25, 13]             224\n",
      " StochasticDepth-154          [-1, 112, 25, 13]               0\n",
      "          MBConv-155          [-1, 112, 25, 13]               0\n",
      "          Conv2d-156          [-1, 672, 25, 13]          75,264\n",
      "     BatchNorm2d-157          [-1, 672, 25, 13]           1,344\n",
      "            SiLU-158          [-1, 672, 25, 13]               0\n",
      "          Conv2d-159          [-1, 672, 25, 13]          16,800\n",
      "     BatchNorm2d-160          [-1, 672, 25, 13]           1,344\n",
      "            SiLU-161          [-1, 672, 25, 13]               0\n",
      "AdaptiveAvgPool2d-162            [-1, 672, 1, 1]               0\n",
      "          Conv2d-163             [-1, 28, 1, 1]          18,844\n",
      "            SiLU-164             [-1, 28, 1, 1]               0\n",
      "          Conv2d-165            [-1, 672, 1, 1]          19,488\n",
      "         Sigmoid-166            [-1, 672, 1, 1]               0\n",
      "SqueezeExcitation-167          [-1, 672, 25, 13]               0\n",
      "          Conv2d-168          [-1, 112, 25, 13]          75,264\n",
      "     BatchNorm2d-169          [-1, 112, 25, 13]             224\n",
      " StochasticDepth-170          [-1, 112, 25, 13]               0\n",
      "          MBConv-171          [-1, 112, 25, 13]               0\n",
      "          Conv2d-172          [-1, 672, 25, 13]          75,264\n",
      "     BatchNorm2d-173          [-1, 672, 25, 13]           1,344\n",
      "            SiLU-174          [-1, 672, 25, 13]               0\n",
      "          Conv2d-175           [-1, 672, 13, 7]          16,800\n",
      "     BatchNorm2d-176           [-1, 672, 13, 7]           1,344\n",
      "            SiLU-177           [-1, 672, 13, 7]               0\n",
      "AdaptiveAvgPool2d-178            [-1, 672, 1, 1]               0\n",
      "          Conv2d-179             [-1, 28, 1, 1]          18,844\n",
      "            SiLU-180             [-1, 28, 1, 1]               0\n",
      "          Conv2d-181            [-1, 672, 1, 1]          19,488\n",
      "         Sigmoid-182            [-1, 672, 1, 1]               0\n",
      "SqueezeExcitation-183           [-1, 672, 13, 7]               0\n",
      "          Conv2d-184           [-1, 192, 13, 7]         129,024\n",
      "     BatchNorm2d-185           [-1, 192, 13, 7]             384\n",
      "          MBConv-186           [-1, 192, 13, 7]               0\n",
      "          Conv2d-187          [-1, 1152, 13, 7]         221,184\n",
      "     BatchNorm2d-188          [-1, 1152, 13, 7]           2,304\n",
      "            SiLU-189          [-1, 1152, 13, 7]               0\n",
      "          Conv2d-190          [-1, 1152, 13, 7]          28,800\n",
      "     BatchNorm2d-191          [-1, 1152, 13, 7]           2,304\n",
      "            SiLU-192          [-1, 1152, 13, 7]               0\n",
      "AdaptiveAvgPool2d-193           [-1, 1152, 1, 1]               0\n",
      "          Conv2d-194             [-1, 48, 1, 1]          55,344\n",
      "            SiLU-195             [-1, 48, 1, 1]               0\n",
      "          Conv2d-196           [-1, 1152, 1, 1]          56,448\n",
      "         Sigmoid-197           [-1, 1152, 1, 1]               0\n",
      "SqueezeExcitation-198          [-1, 1152, 13, 7]               0\n",
      "          Conv2d-199           [-1, 192, 13, 7]         221,184\n",
      "     BatchNorm2d-200           [-1, 192, 13, 7]             384\n",
      " StochasticDepth-201           [-1, 192, 13, 7]               0\n",
      "          MBConv-202           [-1, 192, 13, 7]               0\n",
      "          Conv2d-203          [-1, 1152, 13, 7]         221,184\n",
      "     BatchNorm2d-204          [-1, 1152, 13, 7]           2,304\n",
      "            SiLU-205          [-1, 1152, 13, 7]               0\n",
      "          Conv2d-206          [-1, 1152, 13, 7]          28,800\n",
      "     BatchNorm2d-207          [-1, 1152, 13, 7]           2,304\n",
      "            SiLU-208          [-1, 1152, 13, 7]               0\n",
      "AdaptiveAvgPool2d-209           [-1, 1152, 1, 1]               0\n",
      "          Conv2d-210             [-1, 48, 1, 1]          55,344\n",
      "            SiLU-211             [-1, 48, 1, 1]               0\n",
      "          Conv2d-212           [-1, 1152, 1, 1]          56,448\n",
      "         Sigmoid-213           [-1, 1152, 1, 1]               0\n",
      "SqueezeExcitation-214          [-1, 1152, 13, 7]               0\n",
      "          Conv2d-215           [-1, 192, 13, 7]         221,184\n",
      "     BatchNorm2d-216           [-1, 192, 13, 7]             384\n",
      " StochasticDepth-217           [-1, 192, 13, 7]               0\n",
      "          MBConv-218           [-1, 192, 13, 7]               0\n",
      "          Conv2d-219          [-1, 1152, 13, 7]         221,184\n",
      "     BatchNorm2d-220          [-1, 1152, 13, 7]           2,304\n",
      "            SiLU-221          [-1, 1152, 13, 7]               0\n",
      "          Conv2d-222          [-1, 1152, 13, 7]          28,800\n",
      "     BatchNorm2d-223          [-1, 1152, 13, 7]           2,304\n",
      "            SiLU-224          [-1, 1152, 13, 7]               0\n",
      "AdaptiveAvgPool2d-225           [-1, 1152, 1, 1]               0\n",
      "          Conv2d-226             [-1, 48, 1, 1]          55,344\n",
      "            SiLU-227             [-1, 48, 1, 1]               0\n",
      "          Conv2d-228           [-1, 1152, 1, 1]          56,448\n",
      "         Sigmoid-229           [-1, 1152, 1, 1]               0\n",
      "SqueezeExcitation-230          [-1, 1152, 13, 7]               0\n",
      "          Conv2d-231           [-1, 192, 13, 7]         221,184\n",
      "     BatchNorm2d-232           [-1, 192, 13, 7]             384\n",
      " StochasticDepth-233           [-1, 192, 13, 7]               0\n",
      "          MBConv-234           [-1, 192, 13, 7]               0\n",
      "          Conv2d-235          [-1, 1152, 13, 7]         221,184\n",
      "     BatchNorm2d-236          [-1, 1152, 13, 7]           2,304\n",
      "            SiLU-237          [-1, 1152, 13, 7]               0\n",
      "          Conv2d-238          [-1, 1152, 13, 7]          10,368\n",
      "     BatchNorm2d-239          [-1, 1152, 13, 7]           2,304\n",
      "            SiLU-240          [-1, 1152, 13, 7]               0\n",
      "AdaptiveAvgPool2d-241           [-1, 1152, 1, 1]               0\n",
      "          Conv2d-242             [-1, 48, 1, 1]          55,344\n",
      "            SiLU-243             [-1, 48, 1, 1]               0\n",
      "          Conv2d-244           [-1, 1152, 1, 1]          56,448\n",
      "         Sigmoid-245           [-1, 1152, 1, 1]               0\n",
      "SqueezeExcitation-246          [-1, 1152, 13, 7]               0\n",
      "          Conv2d-247           [-1, 320, 13, 7]         368,640\n",
      "     BatchNorm2d-248           [-1, 320, 13, 7]             640\n",
      "          MBConv-249           [-1, 320, 13, 7]               0\n",
      "          Conv2d-250          [-1, 1280, 13, 7]         409,600\n",
      "     BatchNorm2d-251          [-1, 1280, 13, 7]           2,560\n",
      "            SiLU-252          [-1, 1280, 13, 7]               0\n",
      "AdaptiveAvgPool2d-253           [-1, 1280, 1, 1]               0\n",
      "     BatchNorm1d-254                 [-1, 1280]           2,560\n",
      "          Linear-255                    [-1, 2]           2,562\n",
      "      CustomHead-256                    [-1, 2]               0\n",
      "    EfficientNet-257                    [-1, 2]               0\n",
      "================================================================\n",
      "Total params: 4,012,670\n",
      "Trainable params: 4,012,670\n",
      "Non-trainable params: 0\n",
      "----------------------------------------------------------------\n",
      "Input size (MB): 0.92\n",
      "Forward/backward pass size (MB): 283.25\n",
      "Params size (MB): 15.31\n",
      "Estimated Total Size (MB): 299.47\n",
      "----------------------------------------------------------------\n"
     ]
    }
   ],
   "source": [
    "# Build model\n",
    "model, device = build_model(parameters)\n",
    "summary(model,input_size=(3,400,200))"
   ]
  },
  {
   "cell_type": "code",
   "execution_count": 9,
   "id": "90d3d599",
   "metadata": {
    "_cell_guid": "b1076dfc-b9ad-4769-8c92-a6c4dae69d19",
    "_uuid": "8f2839f25d086af736a60e9eeb907d3b93b6e0e5",
    "execution": {
     "iopub.execute_input": "2024-12-12T21:38:47.851486Z",
     "iopub.status.busy": "2024-12-12T21:38:47.850940Z",
     "iopub.status.idle": "2024-12-12T22:19:18.407421Z",
     "shell.execute_reply": "2024-12-12T22:19:18.406226Z"
    },
    "papermill": {
     "duration": 2430.563577,
     "end_time": "2024-12-12T22:19:18.409528",
     "exception": false,
     "start_time": "2024-12-12T21:38:47.845951",
     "status": "completed"
    },
    "tags": []
   },
   "outputs": [
    {
     "name": "stdout",
     "output_type": "stream",
     "text": [
      "START TRAINING elapsed = 0:00:00  parcial = 0:00:00   now 2024-12-12 21:38:47 \n",
      "####################################################################################################################\n",
      "Train - epoch: 0/25 - 521/521 [==============================] - 96.592s -  - loss  0.5791 - \n",
      "Validation - 59/59 [==============================] - 3.500s - - loss  0.5016 - \n",
      "       #### NEW BEST MODEL ####\n",
      "Train - epoch: 1/25 - 521/521 [==============================] - 93.264s -  - loss  0.3614 - \n",
      "Validation - 59/59 [==============================] - 3.715s - - loss  0.3970 - \n",
      "       #### NEW BEST MODEL ####\n",
      "Train - epoch: 2/25 - 521/521 [==============================] - 93.289s -  - loss  0.4197 - \n",
      "Validation - 59/59 [==============================] - 3.663s - - loss  0.3690 - \n",
      "       #### NEW BEST MODEL ####\n",
      "Train - epoch: 3/25 - 521/521 [==============================] - 93.305s -  - loss  0.3376 - \n",
      "Validation - 59/59 [==============================] - 3.854s - - loss  0.3955 - \n",
      "Train - epoch: 4/25 - 521/521 [==============================] - 93.283s -  - loss  0.2797 - \n",
      "Validation - 59/59 [==============================] - 3.822s - - loss  0.3258 - \n",
      "       #### NEW BEST MODEL ####\n",
      "Train - epoch: 5/25 - 521/521 [==============================] - 93.313s -  - loss  0.2129 - \n",
      "Validation - 59/59 [==============================] - 3.617s - - loss  0.3412 - \n",
      "Train - epoch: 6/25 - 521/521 [==============================] - 93.313s -  - loss  0.2631 - \n",
      "Validation - 59/59 [==============================] - 3.639s - - loss  0.2863 - \n",
      "       #### NEW BEST MODEL ####\n",
      "Train - epoch: 7/25 - 521/521 [==============================] - 93.344s -  - loss  0.5000 - \n",
      "Validation - 59/59 [==============================] - 3.822s - - loss  0.2968 - \n",
      "Train - epoch: 8/25 - 521/521 [==============================] - 93.310s -  - loss  0.3471 - \n",
      "Validation - 59/59 [==============================] - 3.911s - - loss  0.2467 - \n",
      "       #### NEW BEST MODEL ####\n",
      "Train - epoch: 9/25 - 521/521 [==============================] - 93.301s -  - loss  0.2483 - \n",
      "Validation - 59/59 [==============================] - 3.871s - - loss  0.2410 - \n",
      "       #### NEW BEST MODEL ####\n",
      "Train - epoch: 10/25 - 521/521 [==============================] - 93.267s -  - loss  0.1089 - \n",
      "Validation - 59/59 [==============================] - 3.600s - - loss  0.2269 - \n",
      "       #### NEW BEST MODEL ####\n",
      "Train - epoch: 11/25 - 521/521 [==============================] - 93.299s -  - loss  0.1817 - \n",
      "Validation - 59/59 [==============================] - 3.864s - - loss  0.2185 - \n",
      "       #### NEW BEST MODEL ####\n",
      "Train - epoch: 12/25 - 521/521 [==============================] - 93.271s -  - loss  0.1161 - \n",
      "Validation - 59/59 [==============================] - 3.858s - - loss  0.2367 - \n",
      "Train - epoch: 13/25 - 521/521 [==============================] - 93.285s -  - loss  0.2677 - \n",
      "Validation - 59/59 [==============================] - 3.923s - - loss  0.2415 - \n",
      "Train - epoch: 14/25 - 521/521 [==============================] - 93.284s -  - loss  0.2954 - \n",
      "Validation - 59/59 [==============================] - 3.882s - - loss  0.2437 - \n",
      "Train - epoch: 15/25 - 521/521 [==============================] - 93.296s -  - loss  0.2062 - \n",
      "Validation - 59/59 [==============================] - 3.857s - - loss  0.2528 - \n",
      "Train - epoch: 16/25 - 521/521 [==============================] - 93.279s -  - loss  0.1742 - \n",
      "Validation - 59/59 [==============================] - 3.998s - - loss  0.2247 - \n",
      "Train - epoch: 17/25 - 521/521 [==============================] - 93.259s -  - loss  0.0781 - \n",
      "Validation - 59/59 [==============================] - 3.697s - - loss  0.2439 - \n",
      "Train - epoch: 18/25 - 521/521 [==============================] - 93.275s -  - loss  0.2593 - \n",
      "Validation - 59/59 [==============================] - 3.532s - - loss  0.2525 - \n",
      "Train - epoch: 19/25 - 521/521 [==============================] - 93.140s -  - loss  0.1407 - \n",
      "Validation - 59/59 [==============================] - 3.652s - - loss  0.2072 - \n",
      "       #### NEW BEST MODEL ####\n",
      "Train - epoch: 20/25 - 521/521 [==============================] - 93.147s -  - loss  0.1798 - \n",
      "Validation - 59/59 [==============================] - 3.595s - - loss  0.2021 - \n",
      "       #### NEW BEST MODEL ####\n",
      "Train - epoch: 21/25 - 521/521 [==============================] - 93.142s -  - loss  0.2202 - \n",
      "Validation - 59/59 [==============================] - 3.784s - - loss  0.1980 - \n",
      "       #### NEW BEST MODEL ####\n",
      "Train - epoch: 22/25 - 521/521 [==============================] - 93.113s -  - loss  0.0809 - \n",
      "Validation - 59/59 [==============================] - 3.603s - - loss  0.2454 - \n",
      "Train - epoch: 23/25 - 521/521 [==============================] - 93.130s -  - loss  0.1950 - \n",
      "Validation - 59/59 [==============================] - 3.680s - - loss  0.2272 - \n",
      "Train - epoch: 24/25 - 521/521 [==============================] - 93.101s -  - loss  0.1077 - \n",
      "Validation - 59/59 [==============================] - 3.550s - - loss  0.2125 - \n",
      "END TRAINING --  elapsed = 0:40:30  parcial = 0:40:30   now 2024-12-12 22:19:18 \n"
     ]
    }
   ],
   "source": [
    "# Train model\n",
    "tools.print_now(\"START TRAINING\")\n",
    "train_model(parameters=parameters, model=model, device=device, train_loader=train_loader, valid_loader=valid_loader, train_dataset_size=train_dataset_size)\n",
    "tools.print_now(\"END TRAINING -- \")"
   ]
  }
 ],
 "metadata": {
  "kaggle": {
   "accelerator": "gpu",
   "dataSources": [
    {
     "datasetId": 6266305,
     "sourceId": 10162189,
     "sourceType": "datasetVersion"
    }
   ],
   "dockerImageVersionId": 30805,
   "isGpuEnabled": true,
   "isInternetEnabled": true,
   "language": "python",
   "sourceType": "notebook"
  },
  "kernelspec": {
   "display_name": "Python 3",
   "language": "python",
   "name": "python3"
  },
  "language_info": {
   "codemirror_mode": {
    "name": "ipython",
    "version": 3
   },
   "file_extension": ".py",
   "mimetype": "text/x-python",
   "name": "python",
   "nbconvert_exporter": "python",
   "pygments_lexer": "ipython3",
   "version": "3.10.14"
  },
  "papermill": {
   "default_parameters": {},
   "duration": 2476.423168,
   "end_time": "2024-12-12T22:19:20.257123",
   "environment_variables": {},
   "exception": null,
   "input_path": "__notebook__.ipynb",
   "output_path": "__notebook__.ipynb",
   "parameters": {},
   "start_time": "2024-12-12T21:38:03.833955",
   "version": "2.6.0"
  }
 },
 "nbformat": 4,
 "nbformat_minor": 5
}
