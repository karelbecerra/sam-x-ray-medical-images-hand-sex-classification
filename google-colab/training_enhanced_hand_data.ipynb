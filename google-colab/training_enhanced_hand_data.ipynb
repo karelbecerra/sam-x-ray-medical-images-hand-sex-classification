{
  "metadata": {
    "kernelspec": {
      "display_name": "Python 3",
      "name": "python3"
    },
    "language_info": {
      "name": "python",
      "version": "3.10.14",
      "mimetype": "text/x-python",
      "codemirror_mode": {
        "name": "ipython",
        "version": 3
      },
      "pygments_lexer": "ipython3",
      "nbconvert_exporter": "python",
      "file_extension": ".py"
    },
    "kaggle": {
      "accelerator": "gpu",
      "dataSources": [
        {
          "sourceId": 10162189,
          "sourceType": "datasetVersion",
          "datasetId": 6266305
        }
      ],
      "dockerImageVersionId": 30805,
      "isInternetEnabled": true,
      "language": "python",
      "sourceType": "notebook",
      "isGpuEnabled": true
    },
    "colab": {
      "name": "Training (Enhanced Hand Data)",
      "provenance": [],
      "gpuType": "T4",
      "include_colab_link": true
    },
    "accelerator": "GPU"
  },
  "nbformat_minor": 0,
  "nbformat": 4,
  "cells": [
    {
      "cell_type": "markdown",
      "metadata": {
        "id": "view-in-github",
        "colab_type": "text"
      },
      "source": [
        "<a href=\"https://colab.research.google.com/github/karelbecerra/sam-x-ray-medical-images-hand-sex-classification/blob/main/google-colab/training_enhanced_hand_data.ipynb\" target=\"_parent\"><img src=\"https://colab.research.google.com/assets/colab-badge.svg\" alt=\"Open In Colab\"/></a>"
      ]
    },
    {
      "source": [
        "# IMPORTANT: RUN THIS CELL IN ORDER TO IMPORT YOUR KAGGLE DATA SOURCES,\n",
        "# THEN FEEL FREE TO DELETE THIS CELL.\n",
        "# NOTE: THIS NOTEBOOK ENVIRONMENT DIFFERS FROM KAGGLE'S PYTHON\n",
        "# ENVIRONMENT SO THERE MAY BE MISSING LIBRARIES USED BY YOUR\n",
        "# NOTEBOOK.\n",
        "import kagglehub\n",
        "kaggle_datasets_path = kagglehub.dataset_download('karelbecerra/sam-x-ray-medical-images-hand-sex-classification')\n",
        "\n",
        "print('Data source import complete.')\n"
      ],
      "metadata": {
        "id": "rnuzzh1JvMwl",
        "outputId": "f48ec5cb-c086-4178-c2d1-6dda3d8dff58",
        "colab": {
          "base_uri": "https://localhost:8080/"
        }
      },
      "cell_type": "code",
      "outputs": [
        {
          "output_type": "stream",
          "name": "stdout",
          "text": [
            "Warning: Looks like you're using an outdated `kagglehub` version, please consider updating (latest version: 0.3.5)\n",
            "Downloading from https://www.kaggle.com/api/v1/datasets/download/karelbecerra/sam-x-ray-medical-images-hand-sex-classification?dataset_version_number=4...\n"
          ]
        },
        {
          "output_type": "stream",
          "name": "stderr",
          "text": [
            "100%|██████████| 2.55G/2.55G [00:36<00:00, 75.0MB/s]"
          ]
        },
        {
          "output_type": "stream",
          "name": "stdout",
          "text": [
            "Extracting files...\n"
          ]
        },
        {
          "output_type": "stream",
          "name": "stderr",
          "text": [
            "\n"
          ]
        },
        {
          "output_type": "stream",
          "name": "stdout",
          "text": [
            "Data source import complete.\n"
          ]
        }
      ],
      "execution_count": 1
    },
    {
      "cell_type": "markdown",
      "source": [
        "# Prepare notebook environment\n",
        "> This notebook is for the intention of having an easy start process. You can find more '**production ready**' code for **training** and **inference** into **/classification** repository folder.\n",
        "\n",
        "\n",
        "Notebook requeriments:\n",
        "* Install public packages\n",
        "* Import public packages\n",
        "* Clone code repository\n",
        "* Setup working folders\n",
        "* Link Kaggle dataset to Code repository"
      ],
      "metadata": {
        "id": "0IhzyymtvMwm"
      }
    },
    {
      "cell_type": "code",
      "source": [
        "# Install public packages\n",
        "!pip install munch\n",
        "\n",
        "# Import public packages\n",
        "import os\n",
        "import sys\n",
        "import numpy as np\n",
        "from torchsummary import  summary"
      ],
      "metadata": {
        "trusted": true,
        "execution": {
          "iopub.status.busy": "2024-12-12T22:41:55.890056Z",
          "iopub.execute_input": "2024-12-12T22:41:55.89079Z",
          "iopub.status.idle": "2024-12-12T22:42:17.622664Z",
          "shell.execute_reply.started": "2024-12-12T22:41:55.890738Z",
          "shell.execute_reply": "2024-12-12T22:42:17.621882Z"
        },
        "id": "ZR33RY_wvMwn",
        "outputId": "29891c6d-25c8-41d7-f146-5bc8d3333739",
        "colab": {
          "base_uri": "https://localhost:8080/"
        }
      },
      "outputs": [
        {
          "output_type": "stream",
          "name": "stdout",
          "text": [
            "Collecting munch\n",
            "  Downloading munch-4.0.0-py2.py3-none-any.whl.metadata (5.9 kB)\n",
            "Downloading munch-4.0.0-py2.py3-none-any.whl (9.9 kB)\n",
            "Installing collected packages: munch\n",
            "Successfully installed munch-4.0.0\n"
          ]
        }
      ],
      "execution_count": 2
    },
    {
      "cell_type": "code",
      "source": [
        "# Clone repository. After cloning, code will be available in **/kaggle/working/** folder\n",
        "## Remove local clone if already exist\n",
        "!rm -rf ./sam-x-ray-medical-images-hand-sex-classification\n",
        "!git clone https://github.com/karelbecerra/sam-x-ray-medical-images-hand-sex-classification.git\n",
        "\n",
        "## Move /classification to output root\n",
        "!mv ./sam-x-ray-medical-images-hand-sex-classification/classification classification\n",
        "\n",
        "## Removing all extra (we need only /classification folder)\n",
        "!rm -rf ./sam-x-ray-medical-images-hand-sex-classification"
      ],
      "metadata": {
        "trusted": true,
        "execution": {
          "iopub.status.busy": "2024-12-12T22:44:42.879001Z",
          "iopub.execute_input": "2024-12-12T22:44:42.879408Z",
          "iopub.status.idle": "2024-12-12T22:44:48.261988Z",
          "shell.execute_reply.started": "2024-12-12T22:44:42.879376Z",
          "shell.execute_reply": "2024-12-12T22:44:48.260813Z"
        },
        "id": "bXJZx1fTvMwn",
        "outputId": "e8aab407-dc4b-486e-acda-cfe9628657b6",
        "colab": {
          "base_uri": "https://localhost:8080/"
        }
      },
      "outputs": [
        {
          "output_type": "stream",
          "name": "stdout",
          "text": [
            "Cloning into 'sam-x-ray-medical-images-hand-sex-classification'...\n",
            "remote: Enumerating objects: 168, done.\u001b[K\n",
            "remote: Counting objects: 100% (168/168), done.\u001b[K\n",
            "remote: Compressing objects: 100% (138/138), done.\u001b[K\n",
            "remote: Total 168 (delta 67), reused 93 (delta 27), pack-reused 0 (from 0)\u001b[K\n",
            "Receiving objects: 100% (168/168), 8.18 MiB | 12.19 MiB/s, done.\n",
            "Resolving deltas: 100% (67/67), done.\n"
          ]
        }
      ],
      "execution_count": 3
    },
    {
      "cell_type": "code",
      "source": [
        "# Setup working folders\n",
        "troncho_base = './classification'\n",
        "os.chdir(troncho_base)\n",
        "sys.path.append(troncho_base)"
      ],
      "metadata": {
        "trusted": true,
        "execution": {
          "iopub.status.busy": "2024-12-12T22:45:58.791494Z",
          "iopub.execute_input": "2024-12-12T22:45:58.791931Z",
          "iopub.status.idle": "2024-12-12T22:45:58.797186Z",
          "shell.execute_reply.started": "2024-12-12T22:45:58.791895Z",
          "shell.execute_reply": "2024-12-12T22:45:58.796246Z"
        },
        "id": "7zxEB2uRvMwn"
      },
      "outputs": [],
      "execution_count": 4
    },
    {
      "cell_type": "code",
      "source": [
        "# Link Kaggle dataset to Code repository\n",
        "\n",
        "# Configs in repository '**/classification/configs**' are expecting to find dataset on '**./datasets**' folders.\n",
        "# Therefore we need to link Kaggle datasets to ./datasets folder.\n",
        "\n",
        "# Create a symbolic link\n",
        "# Define the target and the link name\n",
        "target = kaggle_datasets_path + \"/enhanced_hand_data\"\n",
        "link_name = \"./datasets/enhanced_hand_data\"\n",
        "\n",
        "# Create a symbolic link\n",
        "os.symlink(target, link_name)\n",
        "\n",
        "# List content\n",
        "os.listdir('./datasets/enhanced_hand_data')"
      ],
      "metadata": {
        "trusted": true,
        "execution": {
          "iopub.status.busy": "2024-12-12T22:46:11.747333Z",
          "iopub.execute_input": "2024-12-12T22:46:11.748043Z",
          "iopub.status.idle": "2024-12-12T22:46:12.744094Z",
          "shell.execute_reply.started": "2024-12-12T22:46:11.747988Z",
          "shell.execute_reply": "2024-12-12T22:46:12.742965Z"
        },
        "id": "BVoZ25TJvMwn",
        "outputId": "1c287560-7324-4c71-ed1a-d5d67e169481",
        "colab": {
          "base_uri": "https://localhost:8080/"
        }
      },
      "outputs": [
        {
          "output_type": "execute_result",
          "data": {
            "text/plain": [
              "['tst_masked_he_400x300.npz',\n",
              " 'val_masked_he_400x300.npz',\n",
              " 'tra_masked_he_400x300.npz']"
            ]
          },
          "metadata": {},
          "execution_count": 5
        }
      ],
      "execution_count": 5
    },
    {
      "cell_type": "markdown",
      "source": [
        "# Training Process\n",
        "* Import local functions\n",
        "* Load parameters: Find more in ./configs folders. Parameters include:\n",
        "  * Augmentations\n",
        "  * Learning Rate\n",
        "  * Initial model weights\n",
        "  * and more...\n",
        "* Load dataset: setup dataset loaders\n",
        "* Build model\n",
        "* Train"
      ],
      "metadata": {
        "id": "xQ0grvcevMwn"
      }
    },
    {
      "cell_type": "code",
      "source": [
        "# Import local methods, functions and models (from github repository)\n",
        "from src.utils import tools\n",
        "from src.trainer import train_model\n",
        "from src.loaddataset import load_datasets\n",
        "from src.buildmodel import build_model\n",
        "from src.utils import config"
      ],
      "metadata": {
        "trusted": true,
        "execution": {
          "iopub.status.busy": "2024-12-12T22:46:17.480996Z",
          "iopub.execute_input": "2024-12-12T22:46:17.481379Z",
          "iopub.status.idle": "2024-12-12T22:46:18.681503Z",
          "shell.execute_reply.started": "2024-12-12T22:46:17.481347Z",
          "shell.execute_reply": "2024-12-12T22:46:18.680572Z"
        },
        "id": "otT9u3yEvMwn"
      },
      "outputs": [],
      "execution_count": 6
    },
    {
      "cell_type": "code",
      "source": [
        "# Load parameters\n",
        "parameters = config.load_parameters(config='enhanced_hand_data', batch=24, epochs=25, run='run1' )"
      ],
      "metadata": {
        "_uuid": "8f2839f25d086af736a60e9eeb907d3b93b6e0e5",
        "_cell_guid": "b1076dfc-b9ad-4769-8c92-a6c4dae69d19",
        "trusted": true,
        "execution": {
          "iopub.status.busy": "2024-12-12T22:46:22.539339Z",
          "iopub.execute_input": "2024-12-12T22:46:22.539805Z",
          "iopub.status.idle": "2024-12-12T22:46:22.547451Z",
          "shell.execute_reply.started": "2024-12-12T22:46:22.539772Z",
          "shell.execute_reply": "2024-12-12T22:46:22.546691Z"
        },
        "id": "lhvlf3NkvMwo"
      },
      "outputs": [],
      "execution_count": 7
    },
    {
      "cell_type": "code",
      "source": [
        "# Load dataset\n",
        "train_loader, valid_loader, train_dataset_size = load_datasets(parameters=parameters)"
      ],
      "metadata": {
        "_uuid": "8f2839f25d086af736a60e9eeb907d3b93b6e0e5",
        "_cell_guid": "b1076dfc-b9ad-4769-8c92-a6c4dae69d19",
        "trusted": true,
        "execution": {
          "iopub.status.busy": "2024-12-12T22:46:29.15009Z",
          "iopub.execute_input": "2024-12-12T22:46:29.151012Z",
          "iopub.status.idle": "2024-12-12T22:46:44.666187Z",
          "shell.execute_reply.started": "2024-12-12T22:46:29.150976Z",
          "shell.execute_reply": "2024-12-12T22:46:44.665401Z"
        },
        "id": "abnYsPAQvMwo"
      },
      "outputs": [],
      "execution_count": 8
    },
    {
      "cell_type": "code",
      "source": [
        "# Build model\n",
        "model, device = build_model(parameters)\n",
        "#summary(model,input_size=(3,400,200))"
      ],
      "metadata": {
        "_uuid": "8f2839f25d086af736a60e9eeb907d3b93b6e0e5",
        "_cell_guid": "b1076dfc-b9ad-4769-8c92-a6c4dae69d19",
        "trusted": true,
        "execution": {
          "iopub.status.busy": "2024-12-12T22:46:47.069825Z",
          "iopub.execute_input": "2024-12-12T22:46:47.070154Z",
          "iopub.status.idle": "2024-12-12T22:46:49.025842Z",
          "shell.execute_reply.started": "2024-12-12T22:46:47.070125Z",
          "shell.execute_reply": "2024-12-12T22:46:49.024896Z"
        },
        "id": "6j_x4EvavMwo",
        "outputId": "a0cc59da-9d9e-4b90-a17b-cb3b103e5506",
        "colab": {
          "base_uri": "https://localhost:8080/"
        }
      },
      "outputs": [
        {
          "output_type": "stream",
          "name": "stderr",
          "text": [
            "Downloading: \"https://download.pytorch.org/models/efficientnet_b0_rwightman-7f5810bc.pth\" to /root/.cache/torch/hub/checkpoints/efficientnet_b0_rwightman-7f5810bc.pth\n",
            "100%|██████████| 20.5M/20.5M [00:00<00:00, 74.7MB/s]\n"
          ]
        }
      ],
      "execution_count": 9
    },
    {
      "cell_type": "code",
      "source": [
        "# Train model\n",
        "tools.print_now(\"START TRAINING\")\n",
        "train_model(parameters=parameters, model=model, device=device, train_loader=train_loader, valid_loader=valid_loader, train_dataset_size=train_dataset_size)\n",
        "tools.print_now(\"END TRAINING -- \")"
      ],
      "metadata": {
        "_uuid": "8f2839f25d086af736a60e9eeb907d3b93b6e0e5",
        "_cell_guid": "b1076dfc-b9ad-4769-8c92-a6c4dae69d19",
        "trusted": true,
        "execution": {
          "iopub.status.busy": "2024-12-12T22:46:54.743347Z",
          "iopub.execute_input": "2024-12-12T22:46:54.744052Z",
          "iopub.status.idle": "2024-12-12T22:47:51.223408Z",
          "shell.execute_reply.started": "2024-12-12T22:46:54.744006Z",
          "shell.execute_reply": "2024-12-12T22:47:51.222121Z"
        },
        "id": "ObrHYFJ8vMwo",
        "outputId": "3f6cb665-6357-4b6b-d7e9-62496e0b1038",
        "colab": {
          "base_uri": "https://localhost:8080/"
        }
      },
      "outputs": [
        {
          "output_type": "stream",
          "name": "stdout",
          "text": [
            "START TRAINING elapsed = 0:00:00  parcial = 0:00:00   now 2024-12-13 21:23:25 \n",
            "####################################################################################################################\n",
            "Train - epoch: 0/25 - 521/521 [==============================] - 145.795s -  - loss  0.3078 - \n",
            "Validation - 59/59 [==============================] - 5.469s - - loss  0.5329 - \n",
            "       #### NEW BEST MODEL ####\n",
            "Train - epoch: 1/25 - 521/521 [==============================] - 143.018s -  - loss  0.2996 - \n",
            "Validation - 59/59 [==============================] - 6.096s - - loss  0.3541 - \n",
            "       #### NEW BEST MODEL ####\n",
            "Train - epoch: 2/25 - 500/521 [===========================>..] - 136.147s -  - loss  0.3865 - "
          ]
        }
      ],
      "execution_count": null
    },
    {
      "cell_type": "markdown",
      "source": [
        "# Results\n",
        "After training, best model weights are saved into /classification/output/models: enhanced_hand_data_run1.pth"
      ],
      "metadata": {
        "id": "RZzqNjha3Wdb"
      }
    },
    {
      "cell_type": "code",
      "source": [
        "# List content\n",
        "os.listdir('./output/models')"
      ],
      "metadata": {
        "id": "moJRVLa53pc1",
        "outputId": "0a7ae7e4-b52b-4efc-de3a-a3d22b988ce7",
        "colab": {
          "base_uri": "https://localhost:8080/"
        }
      },
      "execution_count": 12,
      "outputs": [
        {
          "output_type": "execute_result",
          "data": {
            "text/plain": [
              "['enhanced_hand_data_run1.pth', '.gitignore']"
            ]
          },
          "metadata": {},
          "execution_count": 12
        }
      ]
    },
    {
      "cell_type": "markdown",
      "source": [
        "# Plots\n",
        "Loss and accuracy history can be found in ./classification/output/trace: **enhanced_hand_data_run1.csv**"
      ],
      "metadata": {
        "id": "DWkjaGyC4DFy"
      }
    },
    {
      "cell_type": "code",
      "source": [
        "from stats import trace\n",
        "trace.plot('output/trace/enhanced_hand_data_run1.csv', print_out=True)"
      ],
      "metadata": {
        "id": "SJuae5HG4URS",
        "outputId": "97983ae6-12d0-4e86-85cf-5c1f88ead0bc",
        "colab": {
          "base_uri": "https://localhost:8080/",
          "height": 580
        }
      },
      "execution_count": 13,
      "outputs": [
        {
          "output_type": "stream",
          "name": "stdout",
          "text": [
            "Epochs: 2\n",
            "Best epoch (regarding validation accuracy) 2, training accuracy: 0.8089, validation accuracy: 0.8340\n",
            "Best epoch (regarding validation loss) 2, training loss: 0.4281, validation loss: 0.3624\n"
          ]
        },
        {
          "output_type": "display_data",
          "data": {
            "text/plain": [
              "<Figure size 1200x600 with 1 Axes>"
            ],
            "image/png": "[encoded data removed]"
          },
          "metadata": {}
        }
      ]
    }
  ]
}