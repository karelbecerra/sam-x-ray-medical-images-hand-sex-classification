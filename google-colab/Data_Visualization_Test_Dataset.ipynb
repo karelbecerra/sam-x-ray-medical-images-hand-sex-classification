{
  "metadata": {
    "kernelspec": {
      "language": "python",
      "display_name": "Python 3",
      "name": "python3"
    },
    "language_info": {
      "name": "python",
      "version": "3.10.14",
      "mimetype": "text/x-python",
      "codemirror_mode": {
        "name": "ipython",
        "version": 3
      },
      "pygments_lexer": "ipython3",
      "nbconvert_exporter": "python",
      "file_extension": ".py"
    },
    "kaggle": {
      "accelerator": "none",
      "dataSources": [
        {
          "sourceId": 10162189,
          "sourceType": "datasetVersion",
          "datasetId": 6266305
        }
      ],
      "isInternetEnabled": true,
      "language": "python",
      "sourceType": "notebook",
      "isGpuEnabled": false
    },
    "colab": {
      "name": "Data Visualization (Test Dataset)",
      "provenance": [],
      "include_colab_link": true
    }
  },
  "nbformat_minor": 0,
  "nbformat": 4,
  "cells": [
    {
      "cell_type": "markdown",
      "metadata": {
        "id": "view-in-github",
        "colab_type": "text"
      },
      "source": [
        "<a href=\"https://colab.research.google.com/github/karelbecerra/sam-x-ray-medical-images-hand-sex-classification/blob/main/google-colab/Data_Visualization_Test_Dataset.ipynb\" target=\"_parent\"><img src=\"https://colab.research.google.com/assets/colab-badge.svg\" alt=\"Open In Colab\"/></a>"
      ]
    },
    {
      "source": [
        "# IMPORTANT: RUN THIS CELL IN ORDER TO IMPORT YOUR KAGGLE DATA SOURCES,\n",
        "# THEN FEEL FREE TO DELETE THIS CELL.\n",
        "# NOTE: THIS NOTEBOOK ENVIRONMENT DIFFERS FROM KAGGLE'S PYTHON\n",
        "# ENVIRONMENT SO THERE MAY BE MISSING LIBRARIES USED BY YOUR\n",
        "# NOTEBOOK.\n",
        "import kagglehub\n",
        "karelbecerra_sam_x_ray_medical_images_hand_sex_classification_path = kagglehub.dataset_download('karelbecerra/sam-x-ray-medical-images-hand-sex-classification')\n",
        "\n",
        "print('Data source import complete.')\n"
      ],
      "metadata": {
        "id": "eOL7Fi6VIIPt"
      },
      "cell_type": "code",
      "outputs": [],
      "execution_count": null
    },
    {
      "cell_type": "markdown",
      "source": [
        "# GitHub: full source code\n",
        "Source code is available on GitHub: https://github.com/karelbecerra/sam-x-ray-medical-images-hand-sex-classification\n",
        "\n",
        "# Citation (TBD)\n",
        "Final citation To Be Determinated by Jan 2025\n",
        "```\n",
        "@article{mollineda2025sam,\n",
        "  title={Sex classification from hand X-ray images in pediatric patients: how zero-shot Segment Anything Model (SAM) can improve medical image analysis},\n",
        "  author={Ramón A. Mollineda, Becerra Karel, Mederos Boris},\n",
        "  journal={Computers in Biology and Medicine},\n",
        "  booktitle={Computers in Biology and Medicine xxxx:1234.1234},\n",
        "  year={2025 TBD}\n",
        "}\n",
        "```"
      ],
      "metadata": {
        "id": "40xo3eo9IIPu"
      }
    },
    {
      "cell_type": "markdown",
      "source": [
        "## Imports"
      ],
      "metadata": {
        "id": "gHufTg8FIIPv"
      }
    },
    {
      "cell_type": "code",
      "source": [
        "import os\n",
        "import sys\n",
        "import numpy as np\n",
        "import matplotlib.pyplot as plt"
      ],
      "metadata": {
        "trusted": true,
        "execution": {
          "iopub.status.busy": "2024-12-11T17:29:23.021202Z",
          "iopub.execute_input": "2024-12-11T17:29:23.021554Z",
          "iopub.status.idle": "2024-12-11T17:29:23.026364Z",
          "shell.execute_reply.started": "2024-12-11T17:29:23.021523Z",
          "shell.execute_reply": "2024-12-11T17:29:23.025107Z"
        },
        "id": "1b0m63l8IIPv"
      },
      "outputs": [],
      "execution_count": null
    },
    {
      "cell_type": "markdown",
      "source": [
        "## Display\n",
        "Helper method to plot image datasets"
      ],
      "metadata": {
        "id": "DmxaTupuIIPv"
      }
    },
    {
      "cell_type": "code",
      "source": [
        "def display_sample(img_array, n_img, title):\n",
        "  n_img = min(n_img, img_array.shape[0])\n",
        "  fig, ax = plt.subplots(1, n_img, figsize=(n_img*3, 4))\n",
        "  fig.suptitle(title, fontsize=24)\n",
        "  for i in range(n_img):\n",
        "      ax[i].imshow(img_array[i], cmap='gray')\n",
        "      ax[i].set_xticks([])\n",
        "      ax[i].set_yticks([])\n",
        "  plt.show()"
      ],
      "metadata": {
        "trusted": true,
        "execution": {
          "iopub.status.busy": "2024-12-11T17:29:23.028369Z",
          "iopub.execute_input": "2024-12-11T17:29:23.028692Z",
          "iopub.status.idle": "2024-12-11T17:29:23.04416Z",
          "shell.execute_reply.started": "2024-12-11T17:29:23.028644Z",
          "shell.execute_reply": "2024-12-11T17:29:23.043087Z"
        },
        "id": "dus4xs9wIIPv"
      },
      "outputs": [],
      "execution_count": null
    },
    {
      "cell_type": "markdown",
      "source": [
        "## Datasets\n",
        "Setup working dir. Create Test datasets list"
      ],
      "metadata": {
        "id": "d98_4jdYIIPv"
      }
    },
    {
      "cell_type": "code",
      "source": [
        "# Working dir\n",
        "WORKING_DIR = '/kaggle/input/sam-x-ray-medical-images-hand-sex-classification'\n",
        "\n",
        "# Modify this base directory\n",
        "data_files = [\n",
        "             WORKING_DIR + \"/original/tst_original_400x300.npz\",\n",
        "             WORKING_DIR + \"/hand_data/tst_masked_400x300.npz\",\n",
        "             WORKING_DIR + \"/enhanced_hand_data/tst_masked_he_400x300.npz\",\n",
        "             WORKING_DIR + \"/hand_mask/tst_masks_400x300.npz\",\n",
        "             WORKING_DIR + \"/background (complement to hand masks)/tst_masked_bg_400x300.npz\",\n",
        "             WORKING_DIR + \"/background_2 (complement to hand mask convex hull)/tst_masked_bg_convex_hull_400x300.npz\",\n",
        "             ]\n",
        "\n",
        "representation_id = ['Original images', 'Hand regions', 'Enhanced hand regions', 'Hand masks', 'Background (after subtracting the hand region)', 'Background (after subtracting the convex hull)']"
      ],
      "metadata": {
        "trusted": true,
        "execution": {
          "iopub.status.busy": "2024-12-11T17:29:23.045413Z",
          "iopub.execute_input": "2024-12-11T17:29:23.04585Z",
          "iopub.status.idle": "2024-12-11T17:29:23.057302Z",
          "shell.execute_reply.started": "2024-12-11T17:29:23.045795Z",
          "shell.execute_reply": "2024-12-11T17:29:23.056322Z"
        },
        "id": "IwX9DLH9IIPv"
      },
      "outputs": [],
      "execution_count": null
    },
    {
      "cell_type": "markdown",
      "source": [
        "## Plot datasets"
      ],
      "metadata": {
        "id": "gvkpNQaTIIPw"
      }
    },
    {
      "cell_type": "code",
      "source": [
        "print('Plot datasets...')\n",
        "\n",
        "img_res = (200, 400)\n",
        "for data_file, title in zip(data_files, representation_id):\n",
        "  file = np.load(data_file)\n",
        "  data = file['data']\n",
        "  metadata = file['md']\n",
        "  print('\\n\\n')\n",
        "  display_sample(data, 10, title)"
      ],
      "metadata": {
        "trusted": true,
        "execution": {
          "iopub.status.busy": "2024-12-11T17:29:23.058551Z",
          "iopub.execute_input": "2024-12-11T17:29:23.058902Z",
          "iopub.status.idle": "2024-12-11T17:29:27.158704Z",
          "shell.execute_reply.started": "2024-12-11T17:29:23.058871Z",
          "shell.execute_reply": "2024-12-11T17:29:27.157719Z"
        },
        "id": "4LlzToSLIIPw"
      },
      "outputs": [],
      "execution_count": null
    }
  ]
}